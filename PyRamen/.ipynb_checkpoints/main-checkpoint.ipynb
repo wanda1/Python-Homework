{
 "cells": [
  {
   "cell_type": "code",
   "execution_count": 1,
   "id": "f6f1293f-474e-427e-b3a0-f636d3d612dc",
   "metadata": {},
   "outputs": [],
   "source": [
    "import csv\n",
    "from pathlib import Path\n",
    "#Initialize an empty menu list object to hold the contents of menu_data.csv.\n",
    "menu = []"
   ]
  },
  {
   "cell_type": "code",
   "execution_count": 2,
   "id": "ca58eeba-531a-473b-b4a6-b723335cf692",
   "metadata": {},
   "outputs": [],
   "source": [
    "#Use a with statement and open the menu_data.csv by using its file path.\n",
    "filepath = Path('menu_data.csv')\n",
    "\n"
   ]
  },
  {
   "cell_type": "code",
   "execution_count": 4,
   "id": "4496f114-32eb-467a-965c-591e5e11819c",
   "metadata": {},
   "outputs": [],
   "source": [
    "#Loop over the rest of the rows and append every row to the menu list object (the outcome will be a list of lists).\n",
    "with open(filepath, 'r') as file:\n",
    "    \n",
    "    csvreader = csv.reader(file, delimiter=',')\n",
    "    \n",
    "    header = next(csvreader)\n",
    "    \n",
    "    for row in csvreader:\n",
    "        item = row[0]\n",
    "        category = row[1]\n",
    "        description = row[2]\n",
    "        price = row[3]\n",
    "        cost = row[4]\n",
    "        menu.append([item, category, description, price, cost])"
   ]
  },
  {
   "cell_type": "code",
   "execution_count": 22,
   "id": "fd454a73-518c-4b46-b965-e402c7b15352",
   "metadata": {},
   "outputs": [],
   "source": [
    "#Set up the same process to read in sales_data.csv.\n",
    "#However, instead append every row of the sales data to a new sales list object.\n",
    "sales = []\n",
    "quantity_sales = []\n",
    "menuitem_sales = []\n",
    "\n",
    "filepath2 = Path('sales_data.csv')\n",
    "\n",
    "with open(filepath2, 'r') as file2:\n",
    "    \n",
    "    csvreader2 = csv.reader(file2, delimiter=',')\n",
    "    \n",
    "    header2 = next(csvreader2)\n",
    "\n",
    "    \n",
    "    for row in csvreader2:\n",
    "        lineitem = row[0]\n",
    "        date = row[1]\n",
    "        quantity = row[3]\n",
    "        menuitem = row[4]\n",
    "        sales.append([lineitem, date, quantity, menuitem])\n",
    "        quantity_sales.append(quantity)\n",
    "        menuitem_sales.append(menuitem)"
   ]
  },
  {
   "cell_type": "code",
   "execution_count": 12,
   "id": "c7955f70-ec0a-41a4-b656-85174a10651b",
   "metadata": {},
   "outputs": [],
   "source": [
    "#Initialize an empty report dictionary to hold the future aggregated per-product results\n",
    "\n",
    "report = []\n",
    "\n",
    "#The report dictionary will eventually contain the following metrics:\n",
    "#01-count: the total quantity for each ramen type\n",
    "#02-revenue: the total revenue for each ramen type\n",
    "#03-cogs: the total cost of goods sold for each ramen type\n",
    "#04-profit: the total profit for each"
   ]
  },
  {
   "cell_type": "code",
   "execution_count": 15,
   "id": "0aa88f05-c302-444f-b1f2-bc66407fc162",
   "metadata": {},
   "outputs": [],
   "source": [
    "#Then, loop through every row in the sales list object."
   ]
  },
  {
   "cell_type": "code",
   "execution_count": 24,
   "id": "e1d493f0-158d-4ce7-8724-e70eb7279449",
   "metadata": {},
   "outputs": [
    {
     "name": "stdout",
     "output_type": "stream",
     "text": [
      "['1', '1', '3', '3', '1', '1', '1', '1', '1', '1']\n",
      "['spicy miso ramen', 'spicy miso ramen', 'tori paitan ramen', 'tori paitan ramen', 'truffle butter ramen', 'truffle butter ramen', 'tonkotsu ramen', 'tonkotsu ramen', 'vegetarian spicy miso', 'vegetarian spicy miso']\n"
     ]
    }
   ],
   "source": [
    "#For each row of the sales data, set the following columns of the sales data to their own variables:\n",
    "#Quantity\n",
    "#Menu_Item\n",
    "\n",
    "print(quantity_sales[:10])\n",
    "print(menuitem_sales[:10])"
   ]
  },
  {
   "cell_type": "code",
   "execution_count": null,
   "id": "264566f6-d61f-4bd1-b8ec-5cc75c50c1ff",
   "metadata": {},
   "outputs": [],
   "source": []
  }
 ],
 "metadata": {
  "kernelspec": {
   "display_name": "Python 3",
   "language": "python",
   "name": "python3"
  },
  "language_info": {
   "codemirror_mode": {
    "name": "ipython",
    "version": 3
   },
   "file_extension": ".py",
   "mimetype": "text/x-python",
   "name": "python",
   "nbconvert_exporter": "python",
   "pygments_lexer": "ipython3",
   "version": "3.8.5"
  }
 },
 "nbformat": 4,
 "nbformat_minor": 5
}
