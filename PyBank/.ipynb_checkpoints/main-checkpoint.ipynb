{
 "cells": [
  {
   "cell_type": "code",
   "execution_count": null,
   "id": "ac4c2fe5-ab7d-4839-9ad8-065dc5a16a28",
   "metadata": {},
   "outputs": [],
   "source": [
    "#The total number of months included in the dataset.\n",
    "#The net total amount of Profit/Losses over the entire period.\n",
    "#The average of the changes in Profit/Losses over the entire period.\n",
    "#The greatest increase in profits (date and amount) over the entire period.\n",
    "#The greatest decrease in losses (date and amount) over the entire period.\n",
    "#Your resulting analysis should look similar to the following:\n",
    "#Financial Analysis\n",
    "#----------------------------\n",
    "#Total Months: 86\n",
    "#Total: $38,382,578\n",
    "#Average  Change: $-2315.12\n",
    "#Greatest Increase in Profits: Feb-2012 ($1926159)\n",
    "#Greatest Decrease in Profits: Sep-2013 ($-2196167)\n",
    "\n",
    "#line 17\n",
    "#print(type(file))\n",
    "#print(f\"{header}\")\n",
    "#print(row)\n"
   ]
  },
  {
   "cell_type": "code",
   "execution_count": null,
   "id": "cc722809-5dbb-4039-b8d9-76b00c7e99f9",
   "metadata": {},
   "outputs": [],
   "source": [
    "from pathlib import Path\n",
    "import csv"
   ]
  },
  {
   "cell_type": "code",
   "execution_count": null,
   "id": "6b15ec11-038b-4373-b3e0-992598362f4d",
   "metadata": {},
   "outputs": [],
   "source": [
    "filepath = Path('budget_data.csv')"
   ]
  },
  {
   "cell_type": "code",
   "execution_count": null,
   "id": "4f8e7ce7-f97f-4e94-8177-bd235c3d354e",
   "metadata": {},
   "outputs": [],
   "source": [
    "profitloss = []\n",
    "dates = []\n",
    "monthly_net_change = []"
   ]
  },
  {
   "cell_type": "code",
   "execution_count": null,
   "id": "c618b211-3cbf-45ce-874f-70ec79d906cb",
   "metadata": {},
   "outputs": [],
   "source": [
    "with open(filepath, 'r') as file:\n",
    "    \n",
    "    csvreader = csv.reader(file, delimiter=',')\n",
    "    \n",
    "    header = next(csvreader)\n",
    "   \n",
    "    \n",
    "    for row in csvreader:\n",
    "        money = int(row[1])\n",
    "        date = row[0]\n",
    "        profitloss.append(money)\n",
    "        dates.append(date)\n",
    "        \n",
    "    for row in csvreader:\n",
    "\n",
    "        # Track the total\n",
    "        total_months = total_months + 1\n",
    "        total_net = total_net + int(row[1])\n",
    "        \n",
    "    \n",
    "    #for row in csvreader:\n",
    "        # Track the net change\n",
    "        #net_change = int(row[1]) - prev_net\n",
    "        #prev_net = int(row[1])\n",
    "        #net_change_list = net_change_list + [net_change]"
   ]
  },
  {
   "cell_type": "code",
   "execution_count": null,
   "id": "c972cf7c-ae36-437c-bc1e-1bec98f07976",
   "metadata": {},
   "outputs": [],
   "source": [
    "#total months\n",
    "#tried to used profitloss.index(867884, 1, -1) which was working for me earlier but now it isnt\n",
    "print(profitloss)\n",
    "print(profitloss.index(671099))\n",
    "total_months = str(profitloss.index(671099) + 1)\n",
    "print(total_months)"
   ]
  },
  {
   "cell_type": "code",
   "execution_count": null,
   "id": "dfd955d9-8ce6-4831-9835-2e9d8ad63f1d",
   "metadata": {},
   "outputs": [],
   "source": [
    "#total net profit loss over entire period\n",
    "#$38,382,578\n",
    "total = 0\n",
    "for count in profitloss:\n",
    "    total += count\n",
    "total_profit = '$' + str(total)\n",
    "print(total_profit)"
   ]
  },
  {
   "cell_type": "code",
   "execution_count": null,
   "id": "697f40f5-1250-4eb5-8e55-9a0f229d9180",
   "metadata": {},
   "outputs": [],
   "source": [
    "#average net month change\n",
    "averages = (\n",
    "    profitloss[1] - profitloss[0],\n",
    "    profitloss[2] - profitloss[1],\n",
    "    profitloss[3] - profitloss[2],\n",
    "    profitloss[4] - profitloss[3],\n",
    "    profitloss[5] - profitloss[4],\n",
    "    profitloss[6] - profitloss[5],\n",
    "    profitloss[7] - profitloss[6],\n",
    "    profitloss[8] - profitloss[7],\n",
    "    profitloss[9] - profitloss[8],\n",
    "    profitloss[10] - profitloss[9],\n",
    "    profitloss[11] - profitloss[10],\n",
    "    profitloss[12] - profitloss[11],\n",
    "    profitloss[13] - profitloss[12],\n",
    "    profitloss[14] - profitloss[13],\n",
    "    profitloss[15] - profitloss[14],\n",
    "    profitloss[16] - profitloss[15],\n",
    "    profitloss[17] - profitloss[16],\n",
    "    profitloss[18] - profitloss[17],\n",
    "    profitloss[19] - profitloss[18],\n",
    "    profitloss[20] - profitloss[19],\n",
    "    profitloss[21] - profitloss[20],\n",
    "    profitloss[22] - profitloss[21],\n",
    "    profitloss[23] - profitloss[22],\n",
    "    profitloss[24] - profitloss[23],\n",
    "    profitloss[25] - profitloss[24],\n",
    "    profitloss[26] - profitloss[25],\n",
    "    profitloss[27] - profitloss[26],\n",
    "    profitloss[28] - profitloss[27],\n",
    "    profitloss[29] - profitloss[28],\n",
    "    profitloss[30] - profitloss[29],\n",
    "    profitloss[31] - profitloss[30],\n",
    "    profitloss[32] - profitloss[31],\n",
    "    profitloss[33] - profitloss[32],\n",
    "    profitloss[34] - profitloss[33],\n",
    "    profitloss[35] - profitloss[34],\n",
    "    profitloss[36] - profitloss[35],\n",
    "    profitloss[37] - profitloss[36],\n",
    "    profitloss[38] - profitloss[37],\n",
    "    profitloss[39] - profitloss[38],\n",
    "    profitloss[40] - profitloss[39],\n",
    "    profitloss[41] - profitloss[40],\n",
    "    profitloss[42] - profitloss[41],\n",
    "    profitloss[43] - profitloss[42],\n",
    "    profitloss[44] - profitloss[43],\n",
    "    profitloss[45] - profitloss[44],\n",
    "    profitloss[46] - profitloss[45],\n",
    "    profitloss[47] - profitloss[46],\n",
    "    profitloss[48] - profitloss[47],\n",
    "    profitloss[49] - profitloss[48],\n",
    "    profitloss[50] - profitloss[49],\n",
    "    profitloss[51] - profitloss[50],\n",
    "    profitloss[52] - profitloss[51],\n",
    "    profitloss[53] - profitloss[52],\n",
    "    profitloss[54] - profitloss[53],\n",
    "    profitloss[55] - profitloss[54],\n",
    "    profitloss[56] - profitloss[55],\n",
    "    profitloss[57] - profitloss[56],\n",
    "    profitloss[58] - profitloss[57],\n",
    "    profitloss[59] - profitloss[58],\n",
    "    profitloss[60] - profitloss[59],\n",
    "    profitloss[61] - profitloss[60],\n",
    "    profitloss[62] - profitloss[61],\n",
    "    profitloss[63] - profitloss[62],\n",
    "    profitloss[64] - profitloss[63],\n",
    "    profitloss[65] - profitloss[64],\n",
    "    profitloss[66] - profitloss[65],\n",
    "    profitloss[67] - profitloss[66],\n",
    "    profitloss[68] - profitloss[67],\n",
    "    profitloss[69] - profitloss[68],\n",
    "    profitloss[70] - profitloss[69],\n",
    "    profitloss[71] - profitloss[70],\n",
    "    profitloss[72] - profitloss[71],\n",
    "    profitloss[73] - profitloss[72],\n",
    "    profitloss[74] - profitloss[73],\n",
    "    profitloss[75] - profitloss[74],\n",
    "    profitloss[76] - profitloss[75],\n",
    "    profitloss[77] - profitloss[76],\n",
    "    profitloss[78] - profitloss[77],\n",
    "    profitloss[79] - profitloss[78],\n",
    "    profitloss[80] - profitloss[79],\n",
    "    profitloss[81] - profitloss[80],\n",
    "    profitloss[82] - profitloss[81],\n",
    "    profitloss[83] - profitloss[82],\n",
    "    profitloss[84] - profitloss[83],\n",
    "    profitloss[85] - profitloss[84],\n",
    "          )\n",
    "print(averages)\n",
    "average_change = sum(averages) / len(averages)\n",
    "average_change1 = ('$' + str(round(average_change, 2)))\n",
    "print(average_change1)\n",
    "\n",
    "\n"
   ]
  },
  {
   "cell_type": "code",
   "execution_count": null,
   "id": "d6fce0a4-6334-4749-9231-bd9bb09886c0",
   "metadata": {},
   "outputs": [],
   "source": [
    "#Greatest increase in profits and greatest decrease with months\n",
    "#Greatest Increase in Profits: Feb-2012 ($1926159)\n",
    "#Greatest Decrease in Profits: Sep-2013 ($-2196167) ----- $-2196167 is not correct\n",
    "print(min(averages))\n",
    "print(max(averages))"
   ]
  },
  {
   "cell_type": "code",
   "execution_count": null,
   "id": "156d5adc-89ff-4485-94e0-414934997b16",
   "metadata": {},
   "outputs": [],
   "source": [
    "print(averages.index(-2196167) + 1)\n",
    "print(averages.index(1926159) + 1)"
   ]
  },
  {
   "cell_type": "code",
   "execution_count": null,
   "id": "061d2e9a-c726-4b62-b4ec-5fde6c9062db",
   "metadata": {},
   "outputs": [],
   "source": [
    "print(dates[44])\n",
    "print(dates[25])"
   ]
  },
  {
   "cell_type": "code",
   "execution_count": null,
   "id": "9b0f44d1-8fa1-41cc-840d-73267ccb810b",
   "metadata": {},
   "outputs": [],
   "source": [
    "greatest_decrease = str((dates[44], '$' + str(min(averages))))\n",
    "greatest_increase = str((dates[25], '$' + str(max(averages))))\n",
    "print(greatest_increase, greatest_decrease)"
   ]
  },
  {
   "cell_type": "code",
   "execution_count": null,
   "id": "fb59c1cb-f9ec-43f5-a148-3f8c70d97375",
   "metadata": {},
   "outputs": [],
   "source": [
    "#organizing all variables\n",
    "print(total_months, total_profit, average_change1, greatest_increase, greatest_decrease)"
   ]
  },
  {
   "cell_type": "code",
   "execution_count": null,
   "id": "9c72cfa9-168a-49ae-8048-fbc7e05089b1",
   "metadata": {},
   "outputs": [],
   "source": [
    "#printing analysis for console\n",
    "print(\n",
    "\"Financial Analysis\\n\\n\"\n",
    "\"Total months: \" + str.format(total_months) + \" \\n\"\n",
    "\"Total: \" + str.format(total_profit) + \"\\n\"\n",
    "\"Average Change: \" + str.format(average_change1) + \"\\n\"\n",
    "\"Greatest Increase in Profits\" + str.format(greatest_increase) + \"\\n\"\n",
    "\"Greatest Decrease in Profits\" + str.format(greatest_decrease) + \"\\n\"\n",
    ")\n"
   ]
  },
  {
   "cell_type": "code",
   "execution_count": null,
   "id": "c704fbe6-1720-4d60-989c-23dfd87edf94",
   "metadata": {},
   "outputs": [],
   "source": [
    "#creating file with analysis and printing in terminal, added 1 second buffer fpr .write\n",
    "file = open(\"Financial_Anlysis.txt\", \"w\", buffering=1)\n",
    "file.write(\n",
    "\"Financial Analysis\\n\\n\"\n",
    "\"Total months: \" + str.format(total_months) + \" \\n\"\n",
    "\"Total: \" + str.format(total_profit) + \"\\n\"\n",
    "\"Average Change: \" + str.format(average_change1) + \"\\n\"\n",
    "\"Greatest Increase in Profits\" + str.format(greatest_increase) + \"\\n\"\n",
    "\"Greatest Decrease in Profits\" + str.format(greatest_decrease) + \"\\n\"\n",
    ")\n",
    "file.close"
   ]
  },
  {
   "cell_type": "code",
   "execution_count": null,
   "id": "71e03eaf-fcc8-4844-b4a7-d2500fb2393c",
   "metadata": {},
   "outputs": [],
   "source": []
  }
 ],
 "metadata": {
  "kernelspec": {
   "display_name": "Python 3",
   "language": "python",
   "name": "python3"
  },
  "language_info": {
   "codemirror_mode": {
    "name": "ipython",
    "version": 3
   },
   "file_extension": ".py",
   "mimetype": "text/x-python",
   "name": "python",
   "nbconvert_exporter": "python",
   "pygments_lexer": "ipython3",
   "version": "3.8.5"
  }
 },
 "nbformat": 4,
 "nbformat_minor": 5
}
